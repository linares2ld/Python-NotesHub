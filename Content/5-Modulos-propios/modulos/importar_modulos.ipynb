{
 "cells": [
  {
   "cell_type": "markdown",
   "metadata": {},
   "source": [
    "# Importar un módulo"
   ]
  },
  {
   "cell_type": "code",
   "execution_count": 11,
   "metadata": {},
   "outputs": [],
   "source": [
    "# Importamos un módulo como cualquier libreria\n",
    "\n",
    "import crear_modulo_saludar as cms"
   ]
  },
  {
   "cell_type": "markdown",
   "metadata": {},
   "source": [
    "> __NOTA__: Para poder ejecutar la instrucción de arriba, el módulo debe estar en la misma carpeta que el script o notebook que esta llamando al módulo"
   ]
  },
  {
   "cell_type": "code",
   "execution_count": 12,
   "metadata": {},
   "outputs": [
    {
     "name": "stdout",
     "output_type": "stream",
     "text": [
      "Hola Diego!!, espero que hayas tenido un maravilloso día.\n"
     ]
    }
   ],
   "source": [
    "saludo = cms.saludar(\"Diego\")\n",
    "print(saludo)"
   ]
  },
  {
   "cell_type": "code",
   "execution_count": 13,
   "metadata": {},
   "outputs": [
    {
     "name": "stdout",
     "output_type": "stream",
     "text": [
      "['__builtins__', '__cached__', '__doc__', '__file__', '__loader__', '__name__', '__package__', '__spec__', 'despedir', 'saludar']\n",
      "\n",
      "crear_modulo_saludar\n"
     ]
    }
   ],
   "source": [
    "# Para ver las propiedades y métodos de el namespace\n",
    "print(f\"{dir(cms)}\\n\")\n",
    "\n",
    "# Para ver el nombre del módulo importado\n",
    "print(cms.__name__)"
   ]
  },
  {
   "cell_type": "markdown",
   "metadata": {},
   "source": [
    "# Importar las funciones del módulo"
   ]
  },
  {
   "cell_type": "code",
   "execution_count": 14,
   "metadata": {},
   "outputs": [
    {
     "name": "stdout",
     "output_type": "stream",
     "text": [
      "Hola Diego!!, espero que hayas tenido un maravilloso día.\n",
      "Hasta luego Moly!! Nos vemos luego.\n"
     ]
    }
   ],
   "source": [
    "# Desde el módulo crear_modulo_saludar, importamos la función saludar y despedir, y les cambiamos el nombre\n",
    "\n",
    "from crear_modulo_saludar import saludar as sld, despedir as dpr\n",
    "\n",
    "saludo = sld(\"Diego\")\n",
    "print(saludo)\n",
    "\n",
    "despedida = dpr('Moly')\n",
    "print(despedida)"
   ]
  },
  {
   "cell_type": "markdown",
   "metadata": {},
   "source": [
    "# Importar un módulo que se encuentre en una ruta diferente"
   ]
  },
  {
   "cell_type": "markdown",
   "metadata": {},
   "source": [
    "## Forma temporal"
   ]
  },
  {
   "cell_type": "code",
   "execution_count": 15,
   "metadata": {},
   "outputs": [],
   "source": [
    "import sys"
   ]
  },
  {
   "cell_type": "markdown",
   "metadata": {},
   "source": [
    "__sys.path.append(<ruta del módulo>)__\n",
    "\n",
    "De esta forma agregamos un módulo al PATH"
   ]
  },
  {
   "cell_type": "markdown",
   "metadata": {},
   "source": [
    "Este método es temporal, si se quiere hacer de forma permanente es otro método. Con esto, ya podemos importar módulos que estén fuera de la ruta, como si sí lo estuvieran."
   ]
  },
  {
   "cell_type": "code",
   "execution_count": null,
   "metadata": {},
   "outputs": [],
   "source": [
    "print(f\"{sys}\\n\") # ruta actual\n",
    "\n",
    "print(f\"{sys.builtin_module_names}\\n\") # ruta son los módulo built-in\n",
    "\n",
    "print(sys.path) # rutas de los módulos instalados"
   ]
  }
 ],
 "metadata": {
  "kernelspec": {
   "display_name": ".venv",
   "language": "python",
   "name": "python3"
  },
  "language_info": {
   "codemirror_mode": {
    "name": "ipython",
    "version": 3
   },
   "file_extension": ".py",
   "mimetype": "text/x-python",
   "name": "python",
   "nbconvert_exporter": "python",
   "pygments_lexer": "ipython3",
   "version": "3.12.2"
  }
 },
 "nbformat": 4,
 "nbformat_minor": 2
}
