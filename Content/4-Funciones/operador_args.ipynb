{
 "cells": [
  {
   "cell_type": "markdown",
   "metadata": {},
   "source": [
    "El _operador args_ nos permite definir funciones con una cantidad de argumentos variables. En otras palabras, podemos definir funciones genéricas que no aceptan un número determinado de parámetros, sino que se “adaptan” al número de argumentos con los que son llamados."
   ]
  },
  {
   "cell_type": "markdown",
   "metadata": {},
   "source": [
    "# Usar el operador _args_ para sumar valores de forma optima"
   ]
  },
  {
   "cell_type": "markdown",
   "metadata": {},
   "source": [
    "## Forma 1: como operador"
   ]
  },
  {
   "cell_type": "code",
   "execution_count": 1,
   "metadata": {},
   "outputs": [
    {
     "name": "stdout",
     "output_type": "stream",
     "text": [
      "52\n"
     ]
    }
   ],
   "source": [
    "# El parámetro \"numeros\" tiene que ser una lista o tupla que contenga los números que se quieren sumar\n",
    "\n",
    "def suma_total(numeros):\n",
    "    # El operador args recorrerá la lista dato por dato, dandoselo a la función sum() para ir sumandolos todos\n",
    "    return sum([*numeros])\n",
    "\n",
    "resultado1 = suma_total((3,4,5,3,6,7,8,9,7))\n",
    "\n",
    "print(resultado1)\n"
   ]
  },
  {
   "cell_type": "markdown",
   "metadata": {},
   "source": [
    "# Forma 2: como parámetro"
   ]
  },
  {
   "cell_type": "markdown",
   "metadata": {},
   "source": [
    ">__Nota__: Si se tienen __dos o más parámetros__ en la función, el que ocupe el _operador args_ (*) debe ir __hasta el final__. Args va a permitir meter tantos valores como el usuario quiera dentro la variable que tenga el operador, esto convierte la variable en una tupla con todos lo valores introducidos"
   ]
  },
  {
   "cell_type": "code",
   "execution_count": 2,
   "metadata": {},
   "outputs": [
    {
     "name": "stdout",
     "output_type": "stream",
     "text": [
      "Diego, la suma de tus números es: 52\n"
     ]
    }
   ],
   "source": [
    "def suma(nombre,*numeros):\n",
    "    return f'{nombre}, la suma de tus números es: {sum(numeros)}'\n",
    "\n",
    "resultado2 = suma(\"Diego\",3,4,5,3,6,7,8,9,7)\n",
    "print(resultado2)"
   ]
  }
 ],
 "metadata": {
  "kernelspec": {
   "display_name": "Python 3",
   "language": "python",
   "name": "python3"
  },
  "language_info": {
   "codemirror_mode": {
    "name": "ipython",
    "version": 3
   },
   "file_extension": ".py",
   "mimetype": "text/x-python",
   "name": "python",
   "nbconvert_exporter": "python",
   "pygments_lexer": "ipython3",
   "version": "3.12.2"
  },
  "orig_nbformat": 4
 },
 "nbformat": 4,
 "nbformat_minor": 2
}
