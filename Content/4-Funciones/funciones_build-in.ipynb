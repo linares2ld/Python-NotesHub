{
 "cells": [
  {
   "cell_type": "markdown",
   "metadata": {},
   "source": [
    "# Funciones asociadas con números/listas de números"
   ]
  },
  {
   "cell_type": "code",
   "execution_count": 1,
   "metadata": {},
   "outputs": [],
   "source": [
    "numeros = [4,5,7,23,54]"
   ]
  },
  {
   "cell_type": "code",
   "execution_count": 2,
   "metadata": {},
   "outputs": [
    {
     "name": "stdout",
     "output_type": "stream",
     "text": [
      "54\n"
     ]
    }
   ],
   "source": [
    "# Encontrar el número mayor de una lista\n",
    "numero_mas_alto = max(numeros)\n",
    "print(numero_mas_alto)"
   ]
  },
  {
   "cell_type": "code",
   "execution_count": 3,
   "metadata": {},
   "outputs": [
    {
     "name": "stdout",
     "output_type": "stream",
     "text": [
      "4\n"
     ]
    }
   ],
   "source": [
    "# Encontrar el número menor de una lista\n",
    "numero_mas_bajo = min(numeros)\n",
    "print(numero_mas_bajo)"
   ]
  },
  {
   "cell_type": "code",
   "execution_count": 4,
   "metadata": {},
   "outputs": [
    {
     "name": "stdout",
     "output_type": "stream",
     "text": [
      "12.4324\n"
     ]
    }
   ],
   "source": [
    "# Redondear un número decimal\n",
    "numero = round(12.4324434,4)\n",
    "print(numero)"
   ]
  },
  {
   "cell_type": "code",
   "execution_count": 5,
   "metadata": {},
   "outputs": [
    {
     "name": "stdout",
     "output_type": "stream",
     "text": [
      "93\n"
     ]
    }
   ],
   "source": [
    "# Suma todos los números de un iterable\n",
    "suma = sum(numeros)\n",
    "print(suma)"
   ]
  },
  {
   "cell_type": "markdown",
   "metadata": {},
   "source": [
    "# Funciones booleanas"
   ]
  },
  {
   "cell_type": "markdown",
   "metadata": {},
   "source": [
    ">False:\n",
    ">- 0\n",
    ">- False\n",
    ">- None\n",
    ">- *un dato vacio*\n",
    ">\n",
    ">True:\n",
    ">- *cualquiera número distinto de 0*\n",
    ">- True\n",
    ">- strings\n",
    ">- *datos no vacios*"
   ]
  },
  {
   "cell_type": "code",
   "execution_count": 6,
   "metadata": {},
   "outputs": [
    {
     "name": "stdout",
     "output_type": "stream",
     "text": [
      "True\n"
     ]
    }
   ],
   "source": [
    "# Arroja True o False dependiendo del dato que se evalue \n",
    "# (según las reglas que se enceuntran en los parrafos de arriba)\n",
    "\n",
    "resultado_bool = bool(\"viow\")\n",
    "print(resultado_bool)"
   ]
  },
  {
   "cell_type": "code",
   "execution_count": 7,
   "metadata": {},
   "outputs": [
    {
     "name": "stdout",
     "output_type": "stream",
     "text": [
      "True\n"
     ]
    }
   ],
   "source": [
    "# Arroja True si todos los datos del iterable son de naturaleza verdadera\n",
    "# De lo contrario arroja False\n",
    "\n",
    "resultado_all = all([23,43,\"fcewc\"])\n",
    "print(resultado_all)"
   ]
  }
 ],
 "metadata": {
  "kernelspec": {
   "display_name": "Python 3",
   "language": "python",
   "name": "python3"
  },
  "language_info": {
   "codemirror_mode": {
    "name": "ipython",
    "version": 3
   },
   "file_extension": ".py",
   "mimetype": "text/x-python",
   "name": "python",
   "nbconvert_exporter": "python",
   "pygments_lexer": "ipython3",
   "version": "3.12.2"
  },
  "orig_nbformat": 4
 },
 "nbformat": 4,
 "nbformat_minor": 2
}
