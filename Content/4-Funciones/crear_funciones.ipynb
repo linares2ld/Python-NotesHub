{
 "cells": [
  {
   "cell_type": "markdown",
   "metadata": {},
   "source": [
    "# Funciones simples"
   ]
  },
  {
   "cell_type": "code",
   "execution_count": 1,
   "metadata": {},
   "outputs": [],
   "source": [
    "# Creando una función simple\n",
    "def saludar():\n",
    "    print(\"Hola, ¿cómo andas?\")"
   ]
  },
  {
   "cell_type": "code",
   "execution_count": 2,
   "metadata": {},
   "outputs": [
    {
     "name": "stdout",
     "output_type": "stream",
     "text": [
      "Hola, ¿cómo andas?\n"
     ]
    }
   ],
   "source": [
    "# Llamando la función\n",
    "saludar()"
   ]
  },
  {
   "cell_type": "markdown",
   "metadata": {},
   "source": [
    "# Funciones con parámetros"
   ]
  },
  {
   "cell_type": "markdown",
   "metadata": {},
   "source": [
    ">El __orden__ en como se introducen los parámetros __importa__, de lo contrario estaría asignando el valor a una variable que no quiere. La única forma de introducir los __parámetros en desorden__ es __llamando a la variable__ y asignarle el valor directamente."
   ]
  },
  {
   "cell_type": "code",
   "execution_count": 3,
   "metadata": {},
   "outputs": [],
   "source": [
    "# Creando una función con parámetros\n",
    "\n",
    "def saludar(nombre,sexo):\n",
    "    sexo = sexo.lower()\n",
    "    if sexo == \"mujer\":\n",
    "        adjetivo = \" querida\"\n",
    "    elif sexo == \"hombre\":\n",
    "        adjetivo = \" querido\"\n",
    "    else:\n",
    "        adjetivo = \"\"\n",
    "    print(f'Hola {nombre}, ¿cómo estás{adjetivo}?')"
   ]
  },
  {
   "cell_type": "code",
   "execution_count": 4,
   "metadata": {},
   "outputs": [
    {
     "name": "stdout",
     "output_type": "stream",
     "text": [
      "Hola Allison, ¿cómo estás querida?\n"
     ]
    }
   ],
   "source": [
    "# Llamando la función en orden\n",
    "\n",
    "saludar('Allison','Mujer')"
   ]
  },
  {
   "cell_type": "code",
   "execution_count": 5,
   "metadata": {},
   "outputs": [
    {
     "name": "stdout",
     "output_type": "stream",
     "text": [
      "Hola Allison, ¿cómo estás querida?\n"
     ]
    }
   ],
   "source": [
    "# Llamando la función en desorden (llamando a las variables)\n",
    "\n",
    "saludar(sexo='Mujer',nombre='Allison')"
   ]
  },
  {
   "cell_type": "markdown",
   "metadata": {},
   "source": [
    "## Parámetros opcionales"
   ]
  },
  {
   "cell_type": "markdown",
   "metadata": {},
   "source": [
    ">__NOTA__: para que sea un parámetro opcional, tiene que estar definida en los parámetros de la función, y no dentro de la función, de ser el caso, su valor no se podrá cambiar por el usuario y dejaría de ser un parámetro opcional."
   ]
  },
  {
   "cell_type": "code",
   "execution_count": 6,
   "metadata": {},
   "outputs": [],
   "source": [
    "# Creando una función con un parámetro opcional (tiene un valor por defecto)\n",
    "\n",
    "def frase(nombre,apellido,adjetivo=\"tonto\"):\n",
    "    return f'Hola {nombre} {apellido}, sos muy {adjetivo}'"
   ]
  },
  {
   "cell_type": "code",
   "execution_count": 7,
   "metadata": {},
   "outputs": [
    {
     "name": "stdout",
     "output_type": "stream",
     "text": [
      "Hola Lucas Dalto, sos muy tonto\n"
     ]
    }
   ],
   "source": [
    "# CASO 1:\n",
    "# El parámetro \"adjetivo\" tiene un valor por defecto, por lo que si no se le asigna un valor a la hora de llamar\n",
    "# la funcióN, usará el que ya tiene por defecto.\n",
    "frase_completa = frase(\"Lucas\",\"Dalto\")\n",
    "print(frase_completa)"
   ]
  },
  {
   "cell_type": "code",
   "execution_count": 8,
   "metadata": {},
   "outputs": [
    {
     "name": "stdout",
     "output_type": "stream",
     "text": [
      "Hola Lucas Dalto, sos muy Inteligente\n"
     ]
    }
   ],
   "source": [
    "# CASO 2:\n",
    "# Si se le asigna un valor a \"adjetivo\" al llamar a la función, este se reescribí y utiliza el valor dado\n",
    "frase_completa = frase(\"Lucas\",\"Dalto\",\"Inteligente\")\n",
    "print(frase_completa)"
   ]
  },
  {
   "cell_type": "markdown",
   "metadata": {},
   "source": [
    "# Funciones que retornan valores"
   ]
  },
  {
   "cell_type": "code",
   "execution_count": 9,
   "metadata": {},
   "outputs": [],
   "source": [
    "# Creando una función que nos retorne valores\n",
    "\n",
    "def crear_contraseña_random(num):\n",
    "    chars =\"moernvitlaskfwqmowpa\"\n",
    "    num_entero = str(num)\n",
    "    num = int(num_entero[0])\n",
    "    c1 = num - 2\n",
    "    c2 = num \n",
    "    c3 = num - 5\n",
    "    contraseña = f'{chars[c1]}{chars[c2]}{chars[c3]}{num*2}'\n",
    "    return contraseña,num"
   ]
  },
  {
   "cell_type": "code",
   "execution_count": 10,
   "metadata": {},
   "outputs": [
    {
     "name": "stdout",
     "output_type": "stream",
     "text": [
      "Tu nueva contraseña es: nio12\n",
      "El número que se utilizó para crearla fue: 6\n"
     ]
    }
   ],
   "source": [
    "# Llamando y desempaquetando los valores retornados por la función\n",
    "\n",
    "password,primer_numero = crear_contraseña_random(67565)\n",
    "\n",
    "# Mostrando el resultado\n",
    "\n",
    "frase1 = f'Tu nueva contraseña es: {password}'\n",
    "frase2 = f'El número que se utilizó para crearla fue: {primer_numero}'\n",
    "print(frase1)\n",
    "print(frase2)"
   ]
  }
 ],
 "metadata": {
  "kernelspec": {
   "display_name": "Python 3",
   "language": "python",
   "name": "python3"
  },
  "language_info": {
   "codemirror_mode": {
    "name": "ipython",
    "version": 3
   },
   "file_extension": ".py",
   "mimetype": "text/x-python",
   "name": "python",
   "nbconvert_exporter": "python",
   "pygments_lexer": "ipython3",
   "version": "3.12.2"
  },
  "orig_nbformat": 4
 },
 "nbformat": 4,
 "nbformat_minor": 2
}
