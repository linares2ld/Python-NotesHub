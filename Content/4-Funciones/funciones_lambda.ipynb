{
 "cells": [
  {
   "cell_type": "markdown",
   "metadata": {},
   "source": [
    "# Lambda functions"
   ]
  },
  {
   "cell_type": "markdown",
   "metadata": {},
   "source": [
    ">### Características\n",
    ">- Crea funciones anónimas que se pueden almacenar en variables.\n",
    ">- Son útiles cuando se quiere hacer algo sencillo y rápido.\n",
    ">- Retornan autománicamente.\n",
    ">- No son aptas para escribir más de una instrucción."
   ]
  },
  {
   "cell_type": "code",
   "execution_count": 1,
   "metadata": {},
   "outputs": [],
   "source": [
    "# Creando una función lambda para multiplicar por dos:\n",
    "multiplicar_por_dos = lambda x : x*2"
   ]
  },
  {
   "cell_type": "code",
   "execution_count": 2,
   "metadata": {},
   "outputs": [
    {
     "data": {
      "text/plain": [
       "4"
      ]
     },
     "execution_count": 2,
     "metadata": {},
     "output_type": "execute_result"
    }
   ],
   "source": [
    "a = multiplicar_por_dos(2)\n",
    "a"
   ]
  },
  {
   "cell_type": "markdown",
   "metadata": {},
   "source": [
    "# Simplificando una función normal en una función lambda"
   ]
  },
  {
   "cell_type": "markdown",
   "metadata": {},
   "source": [
    "## *Función que diga si un número es par o no:*"
   ]
  },
  {
   "cell_type": "code",
   "execution_count": 3,
   "metadata": {},
   "outputs": [],
   "source": [
    "# Datos de ejemplo:\n",
    "numeros = [1,2,3,4,5,6,7,8,9]"
   ]
  },
  {
   "cell_type": "markdown",
   "metadata": {},
   "source": [
    ">### Usando filter()\n",
    ">__Filter()__ va a introducir uno por uno los valores de *\"numeros\"* a la función, como si __recorriera una lista__ con un bucle,\n",
    ">despúes va __filtrar los resultados__ dependiendo __si dan True o False__ en la función.\n",
    ">\n",
    ">- True ---> regresa el número y lo mete en la variable *\"numeros_pares\"*.\n",
    ">- False --> ignora el número y evalua el que sigue.\n",
    ">\n",
    ">Se agrega la función list() porque filter regresa un objeto tipo \"filter\", de esta forma se regresa una lista."
   ]
  },
  {
   "cell_type": "code",
   "execution_count": 4,
   "metadata": {},
   "outputs": [
    {
     "name": "stdout",
     "output_type": "stream",
     "text": [
      "[2, 4, 6, 8]\n"
     ]
    }
   ],
   "source": [
    "# Función normal\n",
    "def es_par(num):\n",
    "    if num%2==0:\n",
    "        return True\n",
    "\n",
    "numeros_pares = filter(es_par,numeros)\n",
    "print(list(numeros_pares))"
   ]
  },
  {
   "cell_type": "code",
   "execution_count": 5,
   "metadata": {},
   "outputs": [
    {
     "name": "stdout",
     "output_type": "stream",
     "text": [
      "[2, 4, 6, 8]\n"
     ]
    }
   ],
   "source": [
    "# Función lambda\n",
    "numeros_pares = filter(lambda numero:numero%2==0,numeros)\n",
    "print(list(numeros_pares))"
   ]
  }
 ],
 "metadata": {
  "kernelspec": {
   "display_name": "Python 3",
   "language": "python",
   "name": "python3"
  },
  "language_info": {
   "codemirror_mode": {
    "name": "ipython",
    "version": 3
   },
   "file_extension": ".py",
   "mimetype": "text/x-python",
   "name": "python",
   "nbconvert_exporter": "python",
   "pygments_lexer": "ipython3",
   "version": "3.12.2"
  },
  "orig_nbformat": 4
 },
 "nbformat": 4,
 "nbformat_minor": 2
}
