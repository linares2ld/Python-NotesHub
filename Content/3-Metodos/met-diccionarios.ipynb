{
 "cells": [
  {
   "cell_type": "code",
   "execution_count": 1,
   "metadata": {},
   "outputs": [],
   "source": [
    "diccionario = {\n",
    "    \"nombre\" : \"Diego\",\n",
    "    \"apellido\" : \"López\",\n",
    "    \"edad\" : 20 \n",
    "}"
   ]
  },
  {
   "attachments": {},
   "cell_type": "markdown",
   "metadata": {},
   "source": [
    "# Métodos que regresan un objeto dict_item"
   ]
  },
  {
   "cell_type": "markdown",
   "metadata": {},
   "source": [
    ">__NOTA__: Un objeto *dict_item* es iterable"
   ]
  },
  {
   "cell_type": "code",
   "execution_count": 2,
   "metadata": {},
   "outputs": [
    {
     "name": "stdout",
     "output_type": "stream",
     "text": [
      "dict_keys(['nombre', 'apellido', 'edad'])\n",
      "dict_values(['Diego', 'López', 20])\n"
     ]
    }
   ],
   "source": [
    "# Devuelve las llaves (keys) del diccionario:\n",
    "claves = diccionario.keys()\n",
    "\n",
    "# Devuelve los valores (values) del diccionario:\n",
    "values = diccionario.values()\n",
    "\n",
    "print(claves)\n",
    "print(values)"
   ]
  },
  {
   "cell_type": "code",
   "execution_count": 3,
   "metadata": {},
   "outputs": [
    {
     "name": "stdout",
     "output_type": "stream",
     "text": [
      "dict_items([('nombre', 'Diego'), ('apellido', 'López'), ('edad', 20)])\n"
     ]
    }
   ],
   "source": [
    "# Obtiene un elemento dict_item\n",
    "# - Las llaves con sus respectivos valores se convierten en tuplas\n",
    "\n",
    "diccionario_iterable = diccionario.items()\n",
    "\n",
    "print(diccionario_iterable)"
   ]
  },
  {
   "attachments": {},
   "cell_type": "markdown",
   "metadata": {},
   "source": [
    "# Método de busqueda"
   ]
  },
  {
   "cell_type": "code",
   "execution_count": 4,
   "metadata": {},
   "outputs": [
    {
     "name": "stdout",
     "output_type": "stream",
     "text": [
      "Diego\n"
     ]
    }
   ],
   "source": [
    "# Busca un elemento en el diccionario por su llave (key)\n",
    "# - Si no encuentra el elemento el valor que arroja es \"none\"\n",
    "\n",
    "valor_de_un_elemento = diccionario.get(\"nombre\")\n",
    "\n",
    "print(valor_de_un_elemento)"
   ]
  },
  {
   "attachments": {},
   "cell_type": "markdown",
   "metadata": {},
   "source": [
    "# Métodos de modificación"
   ]
  },
  {
   "cell_type": "code",
   "execution_count": 5,
   "metadata": {},
   "outputs": [
    {
     "name": "stdout",
     "output_type": "stream",
     "text": [
      "{'apellido': 'López', 'edad': 20}\n"
     ]
    }
   ],
   "source": [
    "# Elimina un elemento de un diccionario por su llave (key)\n",
    "diccionario.pop(\"nombre\")\n",
    "\n",
    "print(diccionario)"
   ]
  },
  {
   "cell_type": "code",
   "execution_count": 6,
   "metadata": {},
   "outputs": [
    {
     "name": "stdout",
     "output_type": "stream",
     "text": [
      "{}\n"
     ]
    }
   ],
   "source": [
    "# Elimina todo el contenido del diccionario\n",
    "diccionario.clear()\n",
    "\n",
    "print(diccionario)"
   ]
  }
 ],
 "metadata": {
  "kernelspec": {
   "display_name": "Python 3",
   "language": "python",
   "name": "python3"
  },
  "language_info": {
   "codemirror_mode": {
    "name": "ipython",
    "version": 3
   },
   "file_extension": ".py",
   "mimetype": "text/x-python",
   "name": "python",
   "nbconvert_exporter": "python",
   "pygments_lexer": "ipython3",
   "version": "3.12.2"
  },
  "orig_nbformat": 4
 },
 "nbformat": 4,
 "nbformat_minor": 2
}
