{
 "cells": [
  {
   "cell_type": "code",
   "execution_count": 1,
   "metadata": {},
   "outputs": [],
   "source": [
    "cadena1 = \"Hola, me llamo Diego\"\n",
    "cadena2 = \"95039535\"\n",
    "cadena3 = \"vmejtkg\"\n",
    "cadena4 = \"Hola, ¿cómo te encuentras?\"\n",
    "cadena5 = \"verduras,huevo,pan,jugo,arandanos\""
   ]
  },
  {
   "attachments": {},
   "cell_type": "markdown",
   "metadata": {},
   "source": [
    "# Métodos de modificación"
   ]
  },
  {
   "cell_type": "code",
   "execution_count": 2,
   "metadata": {},
   "outputs": [
    {
     "data": {
      "text/plain": [
       "'HOLA, ME LLAMO DIEGO'"
      ]
     },
     "execution_count": 2,
     "metadata": {},
     "output_type": "execute_result"
    }
   ],
   "source": [
    "# Convierte en mayúsculas todos los caracteres\n",
    "mayusc = cadena1.upper()\n",
    "mayusc"
   ]
  },
  {
   "cell_type": "code",
   "execution_count": 3,
   "metadata": {},
   "outputs": [
    {
     "data": {
      "text/plain": [
       "'hola, me llamo diego'"
      ]
     },
     "execution_count": 3,
     "metadata": {},
     "output_type": "execute_result"
    }
   ],
   "source": [
    "# Convierte en minúsculas todos los caracteres\n",
    "minusc = cadena1.lower()\n",
    "minusc"
   ]
  },
  {
   "cell_type": "code",
   "execution_count": 4,
   "metadata": {},
   "outputs": [
    {
     "data": {
      "text/plain": [
       "'Hola, me llamo diego'"
      ]
     },
     "execution_count": 4,
     "metadata": {},
     "output_type": "execute_result"
    }
   ],
   "source": [
    "# Convierte la primer letra de la cadena en mayúscula:\n",
    "# - Primero convierte todas las letras en minúsculas y posteriormente la primer letra la vuelve mayúscula\n",
    "\n",
    "primer_letra_mayusc = cadena1.capitalize()\n",
    "primer_letra_mayusc"
   ]
  },
  {
   "cell_type": "code",
   "execution_count": 5,
   "metadata": {},
   "outputs": [
    {
     "data": {
      "text/plain": [
       "'Hola!! ¿cómo te encuentras?'"
      ]
     },
     "execution_count": 5,
     "metadata": {},
     "output_type": "execute_result"
    }
   ],
   "source": [
    "# Reemplaza los carácteres seleccionados de una cadena por otros caracteres:\n",
    "# - Si el valor1 se encuentra en la cadena, lo reemplaza con el valor2\n",
    "\n",
    "cadena_nueva = cadena4.replace(\"Hola,\",\"Hola!!\")\n",
    "cadena_nueva\n"
   ]
  },
  {
   "cell_type": "code",
   "execution_count": 6,
   "metadata": {},
   "outputs": [
    {
     "data": {
      "text/plain": [
       "['verduras', 'huevo', 'pan', 'jugo', 'arandanos']"
      ]
     },
     "execution_count": 6,
     "metadata": {},
     "output_type": "execute_result"
    }
   ],
   "source": [
    "# Separa la cadena:\n",
    "# - Realiza la separación en el lugar donde encuentra una coincidencia con la cadena que le demos\n",
    "# - La variable que crea es una lista\n",
    "\n",
    "cadena_separada = cadena5.split(\",\")\n",
    "cadena_separada"
   ]
  },
  {
   "attachments": {},
   "cell_type": "markdown",
   "metadata": {},
   "source": [
    "# Métodos de busqueda"
   ]
  },
  {
   "cell_type": "code",
   "execution_count": 10,
   "metadata": {},
   "outputs": [
    {
     "name": "stdout",
     "output_type": "stream",
     "text": [
      "Hola, me llamo Diego\n",
      "\n",
      "Buscando la letra \"D\": 15\n",
      "Buscando la letra \"F\": -1\n"
     ]
    }
   ],
   "source": [
    "# Busca una cadena dentro de otra cadena:\n",
    "# - Regresa el número de posición de la coincidencia\n",
    "# - Si no encuentra una coincidencia regresa -1\n",
    "\n",
    "print(f'{cadena1}\\n')\n",
    "\n",
    "busqueda_find = cadena1.find(\"D\")\n",
    "print(f'Buscando la letra \"D\": {busqueda_find}')\n",
    "busqueda_find = cadena1.find(\"F\")\n",
    "print(f'Buscando la letra \"F\": {busqueda_find}')\n"
   ]
  },
  {
   "cell_type": "code",
   "execution_count": 14,
   "metadata": {},
   "outputs": [
    {
     "name": "stdout",
     "output_type": "stream",
     "text": [
      "Hola, me llamo Diego\n",
      "\n",
      "Buscando la letra \"D\": 15\n"
     ]
    }
   ],
   "source": [
    "# Busca una cadena dentro de otra cadena:\n",
    "# - Regresa el número de posición de la coincidencia\n",
    "# - Si no encuentra una coincidencia regresa una excepción\n",
    "\n",
    "print(f'{cadena1}\\n')\n",
    "\n",
    "busqueda_index = cadena1.index(\"D\")\n",
    "print(f'Buscando la letra \"D\": {busqueda_index}')\n"
   ]
  },
  {
   "cell_type": "code",
   "execution_count": 12,
   "metadata": {},
   "outputs": [
    {
     "name": "stdout",
     "output_type": "stream",
     "text": [
      "95039535\n",
      "\n",
      "Número de coincidencias del 9: 2\n"
     ]
    }
   ],
   "source": [
    "# Cuenta cuantas coincidencias hay de una cadena dentro de otra cadena:\n",
    "# - Regresa la cantidad de coincidencias\n",
    "\n",
    "print(f'{cadena2}\\n')\n",
    "contar_coincidencias = cadena2.count(\"9\")\n",
    "print(f'Número de coincidencias del 9: {contar_coincidencias}')"
   ]
  },
  {
   "cell_type": "markdown",
   "metadata": {},
   "source": [
    "# Métodos condicionales"
   ]
  },
  {
   "attachments": {},
   "cell_type": "markdown",
   "metadata": {},
   "source": [
    ">Regresan valores booleanos.\n",
    ">- Sí cumple la condición --> regresa True\n",
    ">- No cumple la condición --> regresa False"
   ]
  },
  {
   "cell_type": "code",
   "execution_count": 15,
   "metadata": {},
   "outputs": [
    {
     "name": "stdout",
     "output_type": "stream",
     "text": [
      "95039535\n",
      "\n"
     ]
    },
    {
     "data": {
      "text/plain": [
       "True"
      ]
     },
     "execution_count": 15,
     "metadata": {},
     "output_type": "execute_result"
    }
   ],
   "source": [
    "# Evalua si la cadena es de tipo numérica (toda la cadena)\n",
    "print(f'{cadena2}\\n')\n",
    "es_numerico = cadena2.isnumeric()\n",
    "es_numerico"
   ]
  },
  {
   "cell_type": "code",
   "execution_count": 16,
   "metadata": {},
   "outputs": [
    {
     "name": "stdout",
     "output_type": "stream",
     "text": [
      "vmejtkg\n",
      "\n"
     ]
    },
    {
     "data": {
      "text/plain": [
       "True"
      ]
     },
     "execution_count": 16,
     "metadata": {},
     "output_type": "execute_result"
    }
   ],
   "source": [
    "# Evalua si la cadena es de tipo alfanumérica (toda la cadena)\n",
    "print(f'{cadena3}\\n')\n",
    "es_alfanumerico = cadena3.isalpha()\n",
    "es_alfanumerico"
   ]
  },
  {
   "cell_type": "code",
   "execution_count": 17,
   "metadata": {},
   "outputs": [
    {
     "name": "stdout",
     "output_type": "stream",
     "text": [
      "Hola, me llamo Diego\n",
      "\n"
     ]
    },
    {
     "data": {
      "text/plain": [
       "True"
      ]
     },
     "execution_count": 17,
     "metadata": {},
     "output_type": "execute_result"
    }
   ],
   "source": [
    "# Comprueba si una cadena empieza con otra cadena dada\n",
    "print(f'{cadena1}\\n')\n",
    "empieza_con = cadena1.startswith(\"Hola\")\n",
    "empieza_con"
   ]
  },
  {
   "cell_type": "code",
   "execution_count": 18,
   "metadata": {},
   "outputs": [
    {
     "name": "stdout",
     "output_type": "stream",
     "text": [
      "Hola, me llamo Diego\n",
      "\n"
     ]
    },
    {
     "data": {
      "text/plain": [
       "False"
      ]
     },
     "execution_count": 18,
     "metadata": {},
     "output_type": "execute_result"
    }
   ],
   "source": [
    "# Comprueba si una cadena termina con otra cadena dada\n",
    "print(f'{cadena1}\\n')\n",
    "termina_con = cadena1.endswith(\"Hola\")\n",
    "termina_con"
   ]
  },
  {
   "attachments": {},
   "cell_type": "markdown",
   "metadata": {},
   "source": [
    "# Función len()"
   ]
  },
  {
   "cell_type": "code",
   "execution_count": null,
   "metadata": {},
   "outputs": [
    {
     "name": "stdout",
     "output_type": "stream",
     "text": [
      "vmejtkg\n",
      "\n",
      "Número de carácteres: 7\n"
     ]
    }
   ],
   "source": [
    "# Cuenta cuantos caracteres tiene una cadena\n",
    "print(f'{cadena3}\\n')\n",
    "contar_caracteres = len(cadena3)\n",
    "print(f'Número de carácteres: {contar_caracteres}')\n"
   ]
  }
 ],
 "metadata": {
  "kernelspec": {
   "display_name": "Python 3",
   "language": "python",
   "name": "python3"
  },
  "language_info": {
   "codemirror_mode": {
    "name": "ipython",
    "version": 3
   },
   "file_extension": ".py",
   "mimetype": "text/x-python",
   "name": "python",
   "nbconvert_exporter": "python",
   "pygments_lexer": "ipython3",
   "version": "3.10.6"
  },
  "orig_nbformat": 4
 },
 "nbformat": 4,
 "nbformat_minor": 2
}
