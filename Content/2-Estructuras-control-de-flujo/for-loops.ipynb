{
 "cells": [
  {
   "cell_type": "markdown",
   "metadata": {},
   "source": [
    "# __Iteraciones__"
   ]
  },
  {
   "cell_type": "markdown",
   "metadata": {},
   "source": [
    "## Iterar elementos\n",
    "- Listas\n",
    "- Strings\n",
    "- Tuplas\n",
    "- Conjuntos"
   ]
  },
  {
   "cell_type": "code",
   "execution_count": 11,
   "metadata": {},
   "outputs": [],
   "source": [
    "# Datos para los ejemplos:\n",
    "animales = [\"gato\",\"perro\",\"cocodrilo\",\"pato\",\"cuyo\"]\n",
    "numeros = [23,543,65,23,54]"
   ]
  },
  {
   "cell_type": "markdown",
   "metadata": {},
   "source": [
    "### For simple"
   ]
  },
  {
   "cell_type": "markdown",
   "metadata": {},
   "source": [
    ">Un _bucle for_ __ocupa__ un __objeto iterable__ para recorrer y una __variable__, la cual creará unicamente dentro del bucle. Por defecto, el bucle *recorrera el iterable en su totalidad*."
   ]
  },
  {
   "cell_type": "code",
   "execution_count": 12,
   "metadata": {},
   "outputs": [
    {
     "name": "stdout",
     "output_type": "stream",
     "text": [
      "gato\n",
      "perro\n",
      "cocodrilo\n",
      "pato\n",
      "cuyo\n"
     ]
    }
   ],
   "source": [
    "# for simple\n",
    "\n",
    "for animal in animales:\n",
    "    print(animal)\n",
    "\n",
    "# Recorre la lista animales, guarda el valor en la variable animal, y la imprime"
   ]
  },
  {
   "cell_type": "code",
   "execution_count": 13,
   "metadata": {},
   "outputs": [
    {
     "name": "stdout",
     "output_type": "stream",
     "text": [
      "g\n",
      "a\n",
      "t\n",
      "o\n",
      "\n",
      "p\n",
      "e\n",
      "r\n",
      "r\n",
      "o\n",
      "\n",
      "c\n",
      "o\n",
      "c\n",
      "o\n",
      "d\n",
      "r\n",
      "i\n",
      "l\n",
      "o\n",
      "\n",
      "p\n",
      "a\n",
      "t\n",
      "o\n",
      "\n",
      "c\n",
      "u\n",
      "y\n",
      "o\n",
      "\n"
     ]
    }
   ],
   "source": [
    "# for anidados\n",
    "\n",
    "for palabra in animales:\n",
    "    for letra in palabra:\n",
    "        print(letra)\n",
    "    print(\"\")\n",
    "\n",
    "# 1.- Recorre la lista animales y guarda el valor (como un string) en la variable palabra\n",
    "# 2.- Recorre el string guardado en la variable palabra y guarda el valor en la variable letra"
   ]
  },
  {
   "cell_type": "markdown",
   "metadata": {},
   "source": [
    "### Dos iterables al mismo tiempo -> zip()"
   ]
  },
  {
   "cell_type": "markdown",
   "metadata": {},
   "source": [
    ">Requisitos:\n",
    ">- Las listas deben de ser del mismo tamaño.\n",
    ">- Definir tantas variables como listas ocupadas.\n",
    ">\n",
    "> El __orden__ en como se definan las __variables__ tiene que *concordar* con el orden como entran las __listas__ al bucle para que *los datos se guarden donde se espera*."
   ]
  },
  {
   "cell_type": "code",
   "execution_count": 14,
   "metadata": {},
   "outputs": [
    {
     "name": "stdout",
     "output_type": "stream",
     "text": [
      "El elemento en la lista 1 es: 23.\n",
      "El elemento en la lista 2 es: gato.\n",
      "\n",
      "El elemento en la lista 1 es: 543.\n",
      "El elemento en la lista 2 es: perro.\n",
      "\n",
      "El elemento en la lista 1 es: 65.\n",
      "El elemento en la lista 2 es: cocodrilo.\n",
      "\n",
      "El elemento en la lista 1 es: 23.\n",
      "El elemento en la lista 2 es: pato.\n",
      "\n",
      "El elemento en la lista 1 es: 54.\n",
      "El elemento en la lista 2 es: cuyo.\n",
      "\n"
     ]
    }
   ],
   "source": [
    "for numero,animal in zip(numeros,animales):\n",
    "    print(f'El elemento en la lista 1 es: {numero}.')\n",
    "    print(f'El elemento en la lista 2 es: {animal}.\\n')"
   ]
  },
  {
   "cell_type": "markdown",
   "metadata": {},
   "source": [
    "### range()"
   ]
  },
  {
   "cell_type": "markdown",
   "metadata": {},
   "source": [
    ">Crea un rango de datos numéricos en lugar de ocupar un objeto iterable.\n",
    ">- Un parámetro: Va de cero hasta el número colocado.\n",
    ">- Dos parámetros: Va del primer número hasta antes del segundo número.\n",
    ">- Tres parámetros: Agrega el paso."
   ]
  },
  {
   "cell_type": "code",
   "execution_count": 15,
   "metadata": {},
   "outputs": [
    {
     "name": "stdout",
     "output_type": "stream",
     "text": [
      "0\n",
      "1\n",
      "2\n",
      "3\n",
      "4\n",
      " \n",
      "5\n",
      "6\n",
      "7\n",
      "8\n",
      "9\n"
     ]
    }
   ],
   "source": [
    "# Un parámetro\n",
    "for numero in range(5):\n",
    "    print(numero)\n",
    "    \n",
    "print(\" \")\n",
    "\n",
    "# Dos parámetros\n",
    "for numero in range(5,10):\n",
    "    print(numero)"
   ]
  },
  {
   "cell_type": "code",
   "execution_count": 16,
   "metadata": {},
   "outputs": [
    {
     "name": "stdout",
     "output_type": "stream",
     "text": [
      "5\n",
      "7\n",
      "9\n",
      " \n",
      "10\n",
      "8\n",
      "6\n"
     ]
    }
   ],
   "source": [
    "# Aumento:\n",
    "# Tres parámetros\n",
    "for numero in range(5,10,2):\n",
    "    print(numero)\n",
    "print(\" \")\n",
    "\n",
    "# Descenso:\n",
    "# Tres parámetros\n",
    "for numero in range(10,5,-2):\n",
    "    print(numero)"
   ]
  },
  {
   "cell_type": "markdown",
   "metadata": {},
   "source": [
    "### Iterar por el índice"
   ]
  },
  {
   "cell_type": "markdown",
   "metadata": {},
   "source": [
    "__Forma no optima__"
   ]
  },
  {
   "cell_type": "markdown",
   "metadata": {},
   "source": [
    ">__NOTA__: Esta forma no funciona en conjuntos."
   ]
  },
  {
   "cell_type": "code",
   "execution_count": 17,
   "metadata": {},
   "outputs": [
    {
     "name": "stdout",
     "output_type": "stream",
     "text": [
      "23\n",
      "543\n",
      "65\n",
      "23\n",
      "54\n"
     ]
    }
   ],
   "source": [
    "for num in range(len(numeros)):\n",
    "    print(numeros[num])"
   ]
  },
  {
   "cell_type": "markdown",
   "metadata": {},
   "source": [
    "__Forma optima__ -> enumerate()"
   ]
  },
  {
   "cell_type": "code",
   "execution_count": 18,
   "metadata": {},
   "outputs": [
    {
     "name": "stdout",
     "output_type": "stream",
     "text": [
      "(0, 23)\n",
      "el índice es: 0\n",
      "el valor es: 23\n",
      "\n",
      "(1, 543)\n",
      "el índice es: 1\n",
      "el valor es: 543\n",
      "\n",
      "(2, 65)\n",
      "el índice es: 2\n",
      "el valor es: 65\n",
      "\n",
      "(3, 23)\n",
      "el índice es: 3\n",
      "el valor es: 23\n",
      "\n",
      "(4, 54)\n",
      "el índice es: 4\n",
      "el valor es: 54\n",
      "\n"
     ]
    }
   ],
   "source": [
    "# enumerate(), en este caso, regresa una tupla, por lo que es necesario obtener cada uno de sus valores.\n",
    "for num in enumerate(numeros):\n",
    "    print(num)\n",
    "    #para acceder al índice\n",
    "    print(f'el índice es: {num[0]}')\n",
    "    #para acceder al valor\n",
    "    print(f'el valor es: {num[1]}\\n')"
   ]
  },
  {
   "cell_type": "code",
   "execution_count": 19,
   "metadata": {},
   "outputs": [
    {
     "name": "stdout",
     "output_type": "stream",
     "text": [
      "el índice es: 0\n",
      "el valor es: 23\n",
      "\n",
      "el índice es: 1\n",
      "el valor es: 543\n",
      "\n",
      "el índice es: 2\n",
      "el valor es: 65\n",
      "\n",
      "el índice es: 3\n",
      "el valor es: 23\n",
      "\n",
      "el índice es: 4\n",
      "el valor es: 54\n",
      "\n"
     ]
    }
   ],
   "source": [
    "# Una forma más práctica para desempaquedar una lista con enumerate\n",
    "# En este caso ya no se regresa una tupla, debido a que los valores son desempaquetados en el mismo bucle\n",
    "for i,num in enumerate(numeros):\n",
    "    print(f'el índice es: {i}')\n",
    "    print(f'el valor es: {num}\\n')"
   ]
  },
  {
   "cell_type": "markdown",
   "metadata": {},
   "source": [
    "## Iterar diccionarios"
   ]
  },
  {
   "cell_type": "code",
   "execution_count": 20,
   "metadata": {},
   "outputs": [],
   "source": [
    "# Datos para los ejemplos:\n",
    "datos_personales = dict(nombre=\"Diego\",apellido1=\"López\",apellido2=\"Linares\")"
   ]
  },
  {
   "cell_type": "code",
   "execution_count": 21,
   "metadata": {},
   "outputs": [
    {
     "name": "stdout",
     "output_type": "stream",
     "text": [
      "nombre\n",
      "apellido1\n",
      "apellido2\n"
     ]
    }
   ],
   "source": [
    "# Recorriendo diccionario para obtener claves\n",
    "for key in datos_personales:\n",
    "    print(key)"
   ]
  },
  {
   "cell_type": "code",
   "execution_count": 22,
   "metadata": {},
   "outputs": [
    {
     "name": "stdout",
     "output_type": "stream",
     "text": [
      "('nombre', 'Diego')\n",
      "Clave: nombre\n",
      "Valor: Diego\n",
      "\n",
      "('apellido1', 'López')\n",
      "Clave: apellido1\n",
      "Valor: López\n",
      "\n",
      "('apellido2', 'Linares')\n",
      "Clave: apellido2\n",
      "Valor: Linares\n",
      "\n"
     ]
    }
   ],
   "source": [
    "# Recorriendo diccionario para obtener claves y sus valores\n",
    "# El método .items() regresa una tupla como dato la cual contiene la llave y su resepctivo valor\n",
    "for dato in datos_personales.items():\n",
    "    print(dato)\n",
    "    key = dato[0]\n",
    "    value = dato[1]\n",
    "    print(f'Clave: {key}\\nValor: {value}\\n')"
   ]
  },
  {
   "cell_type": "markdown",
   "metadata": {},
   "source": [
    "# __Otras estructuras__"
   ]
  },
  {
   "cell_type": "markdown",
   "metadata": {},
   "source": [
    "## For/else"
   ]
  },
  {
   "cell_type": "code",
   "execution_count": 23,
   "metadata": {},
   "outputs": [
    {
     "name": "stdout",
     "output_type": "stream",
     "text": [
      "23\n",
      "543\n",
      "65\n",
      "23\n",
      "54\n",
      "El bucle terminó.\n"
     ]
    }
   ],
   "source": [
    "numeros = [23,543,65,23,54]\n",
    "\n",
    "# Cuando el bucle termina su ejecución, muestra el else\n",
    "for numero in numeros:\n",
    "    print(numero)\n",
    "else:\n",
    "    print(\"El bucle terminó.\")"
   ]
  },
  {
   "cell_type": "markdown",
   "metadata": {},
   "source": [
    "## _Break and continue_"
   ]
  },
  {
   "cell_type": "markdown",
   "metadata": {},
   "source": [
    ">####  continue\n",
    ">Se __salta instrucciones__ que se encuentren por delante de él dentro de un bucle. Si se ocupa con condicionales se puede lograr que al cumplir cierta cosa dentro de un bucle en uno de sus ciclos, se salte cierta instrucciones y continuea con su ejecución. Si hay un __else__ al final __sí lo muestra__.\n",
    ">####  break\n",
    ">__Interrumpe__ el bucle y lo termina en ese momento. Si hay un __else__ al final __no lo muestra__."
   ]
  },
  {
   "cell_type": "code",
   "execution_count": 24,
   "metadata": {},
   "outputs": [
    {
     "name": "stdout",
     "output_type": "stream",
     "text": [
      "Voy a comer manzana\n",
      "Voy a comer pera\n",
      "Voy a comer durazno\n",
      "Voy a comer piña\n",
      "Voy a comer sandía\n",
      "El bucle terminó.\n"
     ]
    }
   ],
   "source": [
    "\n",
    "frutas = ['manzana','naranja','pera','durazno','piña','sandía']\n",
    "\n",
    "# Evitando que se coma una naranja con \"continue\"\n",
    "for fruta in frutas:\n",
    "    if fruta == 'naranja':\n",
    "        continue\n",
    "    print(f'Voy a comer {fruta}')\n",
    "else:\n",
    "    print(\"El bucle terminó.\")\n"
   ]
  },
  {
   "cell_type": "code",
   "execution_count": 25,
   "metadata": {},
   "outputs": [
    {
     "name": "stdout",
     "output_type": "stream",
     "text": [
      "Voy a comer manzana\n",
      "Voy a comer naranja\n"
     ]
    }
   ],
   "source": [
    "# Terminando el bucle cuando fruta sea igual a naranja\n",
    "for fruta in frutas:\n",
    "    print(f'Voy a comer {fruta}')\n",
    "    if fruta == 'naranja':\n",
    "        break\n",
    "else:\n",
    "    print('bucle terminado')\n",
    "    "
   ]
  },
  {
   "cell_type": "markdown",
   "metadata": {},
   "source": [
    "## For en una línea"
   ]
  },
  {
   "cell_type": "code",
   "execution_count": 26,
   "metadata": {},
   "outputs": [
    {
     "name": "stdout",
     "output_type": "stream",
     "text": [
      "[64, 108, 4, 8, 6]\n"
     ]
    }
   ],
   "source": [
    "numeros = [32,54,2,4,3]\n",
    "\n",
    "# for en una sola línea de texto\n",
    "numeros_duplicados = [x*2 for x in numeros]\n",
    "print(numeros_duplicados)"
   ]
  }
 ],
 "metadata": {
  "kernelspec": {
   "display_name": "Python 3",
   "language": "python",
   "name": "python3"
  },
  "language_info": {
   "codemirror_mode": {
    "name": "ipython",
    "version": 3
   },
   "file_extension": ".py",
   "mimetype": "text/x-python",
   "name": "python",
   "nbconvert_exporter": "python",
   "pygments_lexer": "ipython3",
   "version": "3.12.2"
  },
  "orig_nbformat": 4
 },
 "nbformat": 4,
 "nbformat_minor": 2
}
