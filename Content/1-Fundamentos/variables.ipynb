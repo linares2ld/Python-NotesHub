{
 "cells": [
  {
   "cell_type": "markdown",
   "metadata": {},
   "source": [
    ">## Métodos de declaración de variables\n",
    "> __camelCase__:\n",
    ">-  resultadoProcesoUno = 73\n",
    ">\n",
    "> __snake_case__ (recomendado para python):\n",
    ">- resultado_proceso_uno = 73\n",
    ">\n",
    "> __NOTA__: existen operadores que permiten declarar el tipo específico de dato, sin embargo, lo usual es declarar los datos con el puro nombre como se vió arriba, ya que _python es capaz de identificar el tipo de dato_ por si solo. Estos operadores se suelen ocupar para crear __variables vacias__."
   ]
  },
  {
   "cell_type": "code",
   "execution_count": 19,
   "metadata": {},
   "outputs": [
    {
     "name": "stdout",
     "output_type": "stream",
     "text": [
      "Hola Diego ¿Cómo estás?\n",
      "Hola Diego ¿Cómo estás?\n"
     ]
    }
   ],
   "source": [
    "# Concatenación:\n",
    "# Lo usual es usar este método con datos simples, pero también funciona con datos compuestos\n",
    "\n",
    "nombre = \"Diego\"\n",
    "\n",
    "# Forma 1:\n",
    "# f-string, convierte la varible en string sí o sí.\n",
    "bienvenida =f\"Hola {nombre} ¿Cómo estás?\" \n",
    "print(bienvenida)\n",
    "\n",
    "# Forma 2:\n",
    "bienvenida = \"Hola \" + nombre + \" ¿Cómo estás?\"\n",
    "print(bienvenida)"
   ]
  },
  {
   "cell_type": "code",
   "execution_count": 25,
   "metadata": {},
   "outputs": [
    {
     "name": "stdout",
     "output_type": "stream",
     "text": [
      "Hola Diego ¿Cómo estás?\n",
      "True\n"
     ]
    }
   ],
   "source": [
    "# Operadores de pertenencia (in & not in) \n",
    "\n",
    "# Busca \"ola\" en \"bienvenida\" y regresa un booleano, en este caso un True\n",
    "print(bienvenida)\n",
    "print(\"ola\" in bienvenida)"
   ]
  },
  {
   "cell_type": "markdown",
   "metadata": {},
   "source": [
    ">## Tipo de dato y poder borrarlos\n",
    ">Para _conocer el tipo de dato_ con el que estamos trabajando, podemos introducir el nombre de la variable dónde tenemos dicho dato a la siguiente función:\n",
    ">- __type(__ dato __)__\n",
    ">\n",
    ">Y para _visualziar el resultado_, introducir type() en la función print:\n",
    ">- __print(type(__ dato __))__\n",
    ">\n",
    ">Para poder _borrar una variable_ de un programa se ocupa el siguiente operador:\n",
    ">- __del__ dato\n",
    ">\n",
    ">Elimina la variable del programa a apartir de su línea de ejecución."
   ]
  },
  {
   "cell_type": "markdown",
   "metadata": {},
   "source": [
    "# Datos simples\n",
    "- string\n",
    "- bool\n",
    "- int\n",
    "- float"
   ]
  },
  {
   "cell_type": "code",
   "execution_count": 6,
   "metadata": {},
   "outputs": [
    {
     "name": "stdout",
     "output_type": "stream",
     "text": [
      "Un dato\n",
      "\n",
      "primer dato\n",
      "segundo dato\n"
     ]
    }
   ],
   "source": [
    "# Tipos de strings:\n",
    "\n",
    "string1_de_una_linea = \"Un dato\"\n",
    "string2_de_una_linea = 'Un dato'\n",
    "\n",
    "string1_de_varias_lineas = \"\"\"primer dato\n",
    "segundo dato\"\"\"\n",
    "string2_de_varias_lineas = '''primer dato\n",
    "segundo dato'''\n",
    "\n",
    "print(f'{string1_de_una_linea}\\n')\n",
    "print(string1_de_varias_lineas)"
   ]
  },
  {
   "cell_type": "markdown",
   "metadata": {},
   "source": [
    "# Datos compuestos"
   ]
  },
  {
   "cell_type": "markdown",
   "metadata": {},
   "source": [
    "## Desempaquetamiento\n"
   ]
  },
  {
   "cell_type": "code",
   "execution_count": null,
   "metadata": {},
   "outputs": [],
   "source": [
    "datos = (\"Diego\",\"López\",\"20\")\n",
    "nombre,apellido,edad = datos\n",
    "#!! SOLO FUNCIONA SI LA CANTIDAD DE VARIABLES ES IGUAL A LA CANTIDAD DE DATOS DEL ARRAYS\n",
    "# FUNCIONA EN TUPLAS Y LISTAS\n",
    "# NO DESEMPAQUETA NÚMEROS"
   ]
  },
  {
   "cell_type": "markdown",
   "metadata": {},
   "source": [
    "## Listas\n",
    "- Elementos individuales modificables\n",
    "- Elemento ordenado. Se puede recorrer por índice"
   ]
  },
  {
   "cell_type": "code",
   "execution_count": 20,
   "metadata": {},
   "outputs": [],
   "source": [
    "lista = [\"Cadena de texto\",True,1.74] #list\n",
    "\n",
    "# valido\n",
    "lista[2] = 4"
   ]
  },
  {
   "cell_type": "markdown",
   "metadata": {},
   "source": [
    "## Tuplas\n",
    "- Elementos individuales no modificables. Modificable solo si se modifica por completo.\n",
    "- Elemento ordenado. Se puede recorrer por índice"
   ]
  },
  {
   "cell_type": "code",
   "execution_count": 26,
   "metadata": {},
   "outputs": [
    {
     "data": {
      "text/plain": [
       "'Cadena de texto'"
      ]
     },
     "execution_count": 26,
     "metadata": {},
     "output_type": "execute_result"
    }
   ],
   "source": [
    "tupla = (\"Cadena de texto\",True,1.74) #tuple\n"
   ]
  },
  {
   "cell_type": "code",
   "execution_count": null,
   "metadata": {},
   "outputs": [],
   "source": [
    "# ¿Cuándo usar tupla?\n",
    "# DATOS DE SOLO LECTURA\n",
    "\n",
    "# Creando tuplas con \"tuple\"\n",
    "tupla = tuple([\"dato1\",\"dato2\"])\n",
    "# El parametro que recibees una lista\n",
    "\n",
    "# Creando una tupla sin paréntesis de multiples datos\n",
    "tupla1 = \"dato1\", \"dato2\"\n",
    "\n",
    "# Creando una tupla sin paréntesis de un solo dato\n",
    "tupla2 = \"dato1\","
   ]
  },
  {
   "cell_type": "markdown",
   "metadata": {},
   "source": [
    "## Conjuntos\n",
    "- Elementos individuales no modificables. Modificable solo si se modifica por completo.\n",
    "- Elemento desordenado. No se puede recorrer por índice\n",
    "- No admite elementos repetidos"
   ]
  },
  {
   "cell_type": "code",
   "execution_count": null,
   "metadata": {},
   "outputs": [],
   "source": [
    "conjunto = {\"Cadena de texto\",True,1.74} #set"
   ]
  },
  {
   "cell_type": "code",
   "execution_count": null,
   "metadata": {},
   "outputs": [],
   "source": [
    "# creando un conjunto con set()\n",
    "conjunto = set([\"Hola\",\"Adios\"])\n",
    "print(conjunto)\n",
    "\n",
    "# creando un conjunto a partir de una cadena de texto\n",
    "# - tiene que ser con la función set.\n",
    "conjunto = set('Holaa')\n",
    "print(conjunto)\n",
    "\n",
    "# metiendo un conjunto dentro de otro conjunto\n",
    "# - frozenset() permite crear un conjunto inmutable hashable para poder introducirlo dentro de otro conjunto.\n",
    "# - no es posible meter un elemento modificable dentro de otro no modificable.\n",
    "conjunto1 = frozenset([\"dato1\",\"dato2\"])\n",
    "conjunto2 = {conjunto1,\"dato3\"}\n",
    "print(conjunto2)\n",
    "print(' ')\n",
    "\n",
    "# TEORÍA DE CONJUNTOS\n",
    "conjunto1 = {1,2,4,6,7}\n",
    "conjunto2 = {1,4,6}\n",
    "\n",
    "# verificando si es un subconjunto con el método: .issubset()\n",
    "resultado = conjunto2.issubset(conjunto1)\n",
    "print(f'El conjunto 2 es un subconjunto del conjunto 1: {resultado}')\n",
    "# verificando si es un subconjunto con operadores de comparación\n",
    "resultado = conjunto2 <= conjunto1\n",
    "print(f'El conjunto 2 es un subconjunto del conjunto 1: {resultado}')\n",
    "\n",
    "# verificando si es un superconjunto con el método: .issuperset()\n",
    "resultado = conjunto2.issuperset(conjunto1)\n",
    "print(f'El conjunto 2 es un superconjunto del conjunto 1: {resultado}')\n",
    "# verificando si es un superconjunto con operadores de comparación\n",
    "resultado = conjunto2 >= conjunto1\n",
    "print(f'El conjunto 2 es un superconjunto del conjunto 1: {resultado}')\n",
    "\n",
    "# verificando si hay algún número en común\n",
    "# - si hay un solo número en común, arrojará False\n",
    "# - si todos los números son distintos, arrojará True\n",
    "resultado = conjunto2.isdisjoint(conjunto1)\n",
    "print(resultado)"
   ]
  },
  {
   "cell_type": "markdown",
   "metadata": {},
   "source": [
    "## Diccionarios"
   ]
  },
  {
   "cell_type": "code",
   "execution_count": null,
   "metadata": {},
   "outputs": [],
   "source": [
    "diccionario = {\n",
    "    'texto' : \"Cadena de texto\", # 'key' : value\n",
    "    'si_o_no' : True,\n",
    "    'numero' : 1.74\n",
    "}\n",
    "print(diccionario[\"numero\"])"
   ]
  },
  {
   "cell_type": "code",
   "execution_count": null,
   "metadata": {},
   "outputs": [],
   "source": [
    "# creando diccionarios con dict()\n",
    "# - es la única forma de crear diccionarios vacios \n",
    "diccionario = dict(nombre=\"Diego\",apellido=\"López\") # dict(clave=\"valor\")\n",
    "print(diccionario)\n",
    "# definiendo una tupla como clave. No se puede con listas\n",
    "diccionario = {(\"nombre\",\"apellido\"):\"Diego\"}\n",
    "print(diccionario)\n",
    "# usando frozenset() para definir un conjunto como clave\n",
    "diccionario = {frozenset({\"nombre\",\"apellido\"}):\"Diego\"}\n",
    "print(diccionario)"
   ]
  }
 ],
 "metadata": {
  "kernelspec": {
   "display_name": "Python 3",
   "language": "python",
   "name": "python3"
  },
  "language_info": {
   "codemirror_mode": {
    "name": "ipython",
    "version": 3
   },
   "file_extension": ".py",
   "mimetype": "text/x-python",
   "name": "python",
   "nbconvert_exporter": "python",
   "pygments_lexer": "ipython3",
   "version": "3.10.6"
  },
  "orig_nbformat": 4
 },
 "nbformat": 4,
 "nbformat_minor": 2
}
